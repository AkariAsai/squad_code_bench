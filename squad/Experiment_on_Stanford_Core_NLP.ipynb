{
 "cells": [
  {
   "cell_type": "code",
   "execution_count": 2,
   "metadata": {
    "collapsed": true
   },
   "outputs": [],
   "source": [
    "import pandas as pd\n",
    "import numpy as np\n",
    "import matplotlib.pyplot as plt\n",
    "import seaborn as sns\n",
    "import corenlp\n",
    "import json \n",
    "import pprint"
   ]
  },
  {
   "cell_type": "code",
   "execution_count": 16,
   "metadata": {
    "collapsed": true
   },
   "outputs": [],
   "source": [
    "corenlp_dir = \"stanford-corenlp-full-2016-10-31/\"\n",
    "parser = corenlp.StanfordCoreNLP(corenlp_path=corenlp_dir)\n"
   ]
  },
  {
   "cell_type": "code",
   "execution_count": 17,
   "metadata": {},
   "outputs": [
    {
     "name": "stdout",
     "output_type": "stream",
     "text": [
      "{'sentences': [{'dependencies': [['root', 'ROOT', 'invented'],\n",
      "                                 ['nsubj', 'invented', 'Who'],\n",
      "                                 ['dobj', 'invented', 'LED'],\n",
      "                                 ['case', '1980', 'in'],\n",
      "                                 ['nmod:in', 'LED', '1980'],\n",
      "                                 ['punct', 'invented', '?']],\n",
      "                'indexeddependencies': [['root', 'ROOT-0', 'invented-2'],\n",
      "                                        ['nsubj', 'invented-2', 'Who-1'],\n",
      "                                        ['dobj', 'invented-2', 'LED-3'],\n",
      "                                        ['case', '1980-5', 'in-4'],\n",
      "                                        ['nmod:in', 'LED-3', '1980-5'],\n",
      "                                        ['punct', 'invented-2', '?-6']],\n",
      "                'parsetree': '[Text=invented CharacterOffsetBegin=4 '\n",
      "                             'CharacterOffsetEnd=12 PartOfSpeech=VBD '\n",
      "                             'Lemma=invent NamedEntityTag=O] [Text=LED '\n",
      "                             'CharacterOffsetBegin=13 CharacterOffsetEnd=16 '\n",
      "                             'PartOfSpeech=NNP Lemma=LED NamedEntityTag=O] '\n",
      "                             '[Text=in CharacterOffsetBegin=17 '\n",
      "                             'CharacterOffsetEnd=19 PartOfSpeech=IN Lemma=in '\n",
      "                             'NamedEntityTag=O] [Text=1980 '\n",
      "                             'CharacterOffsetBegin=20 CharacterOffsetEnd=24 '\n",
      "                             'PartOfSpeech=CD Lemma=1980 NamedEntityTag=DATE '\n",
      "                             'NormalizedNamedEntityTag=1980 Timex=<TIMEX3 '\n",
      "                             'tid=\"t1\" type=\"DATE\" value=\"1980\">1980</TIMEX3>] '\n",
      "                             '[Text=? CharacterOffsetBegin=24 '\n",
      "                             'CharacterOffsetEnd=25 PartOfSpeech=. Lemma=? '\n",
      "                             'NamedEntityTag=O] (ROOT (SBARQ (WHNP (WP Who)) '\n",
      "                             '(SQ (VP (VBD invented) (NP (NP (NNP LED)) (PP '\n",
      "                             '(IN in) (NP (CD 1980)))))) (. ?)))',\n",
      "                'text': 'Who invented LED in 1980?',\n",
      "                'words': [['Who',\n",
      "                           {'CharacterOffsetBegin': '0',\n",
      "                            'CharacterOffsetEnd': '3',\n",
      "                            'Lemma': 'who',\n",
      "                            'NamedEntityTag': 'O',\n",
      "                            'PartOfSpeech': 'WP'}]]}]}\n"
     ]
    }
   ],
   "source": [
    "result_json = json.loads(parser.parse(\"Who invented LED in 1980?\"))\n",
    "#result_json = json.loads(parser.parse(\"Michal Jordan invented LED in 1980.\"))\n",
    "pprint.pprint(result_json)"
   ]
  },
  {
   "cell_type": "code",
   "execution_count": 19,
   "metadata": {},
   "outputs": [
    {
     "name": "stdout",
     "output_type": "stream",
     "text": [
      "{'sentences': [{'dependencies': [['root', 'ROOT', 'invented'],\n",
      "                                 ['nsubj', 'invented', 'Michal'],\n",
      "                                 ['dep', 'invented', 'LED'],\n",
      "                                 ['case', '1980', 'in'],\n",
      "                                 ['nmod:in', 'LED', '1980'],\n",
      "                                 ['punct', 'invented', '.']],\n",
      "                'indexeddependencies': [['root', 'ROOT-0', 'invented-2'],\n",
      "                                        ['nsubj', 'invented-2', 'Michal-1'],\n",
      "                                        ['dep', 'invented-2', 'LED-3'],\n",
      "                                        ['case', '1980-5', 'in-4'],\n",
      "                                        ['nmod:in', 'LED-3', '1980-5'],\n",
      "                                        ['punct', 'invented-2', '.-6']],\n",
      "                'parsetree': '[Text=invented CharacterOffsetBegin=7 '\n",
      "                             'CharacterOffsetEnd=15 PartOfSpeech=VBD '\n",
      "                             'Lemma=invent NamedEntityTag=O] [Text=LED '\n",
      "                             'CharacterOffsetBegin=16 CharacterOffsetEnd=19 '\n",
      "                             'PartOfSpeech=VBN Lemma=lead NamedEntityTag=O] '\n",
      "                             '[Text=in CharacterOffsetBegin=20 '\n",
      "                             'CharacterOffsetEnd=22 PartOfSpeech=IN Lemma=in '\n",
      "                             'NamedEntityTag=O] [Text=1980 '\n",
      "                             'CharacterOffsetBegin=23 CharacterOffsetEnd=27 '\n",
      "                             'PartOfSpeech=CD Lemma=1980 NamedEntityTag=DATE '\n",
      "                             'NormalizedNamedEntityTag=1980 Timex=<TIMEX3 '\n",
      "                             'tid=\"t1\" type=\"DATE\" value=\"1980\">1980</TIMEX3>] '\n",
      "                             '[Text=. CharacterOffsetBegin=27 '\n",
      "                             'CharacterOffsetEnd=28 PartOfSpeech=. Lemma=. '\n",
      "                             'NamedEntityTag=O] (ROOT (S (NP (NNP Michal)) (VP '\n",
      "                             '(VBD invented) (VP (VBN LED) (PP (IN in) (NP (CD '\n",
      "                             '1980))))) (. .)))',\n",
      "                'text': 'Michal invented LED in 1980.',\n",
      "                'words': [['Michal',\n",
      "                           {'CharacterOffsetBegin': '0',\n",
      "                            'CharacterOffsetEnd': '6',\n",
      "                            'Lemma': 'Michal',\n",
      "                            'NamedEntityTag': 'PERSON',\n",
      "                            'PartOfSpeech': 'NNP'}]]}]}\n"
     ]
    }
   ],
   "source": [
    "result_json = json.loads(parser.parse(\"Michal invented LED in 1980.\"))\n",
    "pprint.pprint(result_json)"
   ]
  },
  {
   "cell_type": "code",
   "execution_count": 20,
   "metadata": {},
   "outputs": [
    {
     "name": "stdout",
     "output_type": "stream",
     "text": [
      "{'sentences': [{'dependencies': [['root', 'ROOT', 'love'],\n",
      "                                 ['det', 'color', 'Which'],\n",
      "                                 ['dobj', 'love', 'color'],\n",
      "                                 ['aux', 'love', 'does'],\n",
      "                                 ['nsubj', 'love', 'Julia'],\n",
      "                                 ['punct', 'love', '?']],\n",
      "                'indexeddependencies': [['root', 'ROOT-0', 'love-5'],\n",
      "                                        ['det', 'color-2', 'Which-1'],\n",
      "                                        ['dobj', 'love-5', 'color-2'],\n",
      "                                        ['aux', 'love-5', 'does-3'],\n",
      "                                        ['nsubj', 'love-5', 'Julia-4'],\n",
      "                                        ['punct', 'love-5', '?-6']],\n",
      "                'parsetree': '[Text=color CharacterOffsetBegin=6 '\n",
      "                             'CharacterOffsetEnd=11 PartOfSpeech=NN '\n",
      "                             'Lemma=color NamedEntityTag=O] [Text=does '\n",
      "                             'CharacterOffsetBegin=12 CharacterOffsetEnd=16 '\n",
      "                             'PartOfSpeech=VBZ Lemma=do NamedEntityTag=O] '\n",
      "                             '[Text=Julia CharacterOffsetBegin=17 '\n",
      "                             'CharacterOffsetEnd=22 PartOfSpeech=NNP '\n",
      "                             'Lemma=Julia NamedEntityTag=PERSON] [Text=love '\n",
      "                             'CharacterOffsetBegin=23 CharacterOffsetEnd=27 '\n",
      "                             'PartOfSpeech=VB Lemma=love NamedEntityTag=O] '\n",
      "                             '[Text=? CharacterOffsetBegin=27 '\n",
      "                             'CharacterOffsetEnd=28 PartOfSpeech=. Lemma=? '\n",
      "                             'NamedEntityTag=O] (ROOT (SBARQ (WHNP (WDT Which) '\n",
      "                             '(NN color)) (SQ (VBZ does) (NP (NNP Julia)) (VP '\n",
      "                             '(VB love))) (. ?)))',\n",
      "                'text': 'Which color does Julia love?',\n",
      "                'words': [['Which',\n",
      "                           {'CharacterOffsetBegin': '0',\n",
      "                            'CharacterOffsetEnd': '5',\n",
      "                            'Lemma': 'which',\n",
      "                            'NamedEntityTag': 'O',\n",
      "                            'PartOfSpeech': 'WDT'}]]}]}\n"
     ]
    }
   ],
   "source": [
    "result_json = json.loads(parser.parse(\"Which color does Julia love?\"))\n",
    "#result_json = json.loads(parser.parse(\"Michal Jordan invented LED in 1980.\"))\n",
    "pprint.pprint(result_json)"
   ]
  },
  {
   "cell_type": "code",
   "execution_count": 22,
   "metadata": {},
   "outputs": [
    {
     "name": "stdout",
     "output_type": "stream",
     "text": [
      "{'sentences': [{'dependencies': [['root', 'ROOT', 'loves'],\n",
      "                                 ['nsubj', 'loves', 'Julia'],\n",
      "                                 ['dobj', 'loves', 'pink']],\n",
      "                'indexeddependencies': [['root', 'ROOT-0', 'loves-2'],\n",
      "                                        ['nsubj', 'loves-2', 'Julia-1'],\n",
      "                                        ['dobj', 'loves-2', 'pink-3']],\n",
      "                'parsetree': '[Text=loves CharacterOffsetBegin=6 '\n",
      "                             'CharacterOffsetEnd=11 PartOfSpeech=VBZ '\n",
      "                             'Lemma=love NamedEntityTag=O] [Text=pink '\n",
      "                             'CharacterOffsetBegin=12 CharacterOffsetEnd=16 '\n",
      "                             'PartOfSpeech=NN Lemma=pink NamedEntityTag=O] '\n",
      "                             '(ROOT (S (NP (NNP Julia)) (VP (VBZ loves) (NP '\n",
      "                             '(NN pink)))))',\n",
      "                'text': 'Julia loves pink',\n",
      "                'words': [['Julia',\n",
      "                           {'CharacterOffsetBegin': '0',\n",
      "                            'CharacterOffsetEnd': '5',\n",
      "                            'Lemma': 'Julia',\n",
      "                            'NamedEntityTag': 'PERSON',\n",
      "                            'PartOfSpeech': 'NNP'}]]}]}\n"
     ]
    }
   ],
   "source": [
    "result_json = json.loads(parser.parse(\"Julia loves pink\"))\n",
    "#result_json = json.loads(parser.parse(\"Michal Jordan invented LED in 1980.\"))\n",
    "pprint.pprint(result_json)"
   ]
  },
  {
   "cell_type": "code",
   "execution_count": 23,
   "metadata": {},
   "outputs": [
    {
     "name": "stdout",
     "output_type": "stream",
     "text": [
      "{'sentences': [{'dependencies': [['root', 'ROOT', 'loves'],\n",
      "                                 ['advmod', 'loves', 'Why'],\n",
      "                                 ['nsubj', 'loves', 'Julia'],\n",
      "                                 ['dobj', 'loves', 'pink']],\n",
      "                'indexeddependencies': [['root', 'ROOT-0', 'loves-3'],\n",
      "                                        ['advmod', 'loves-3', 'Why-1'],\n",
      "                                        ['nsubj', 'loves-3', 'Julia-2'],\n",
      "                                        ['dobj', 'loves-3', 'pink-4']],\n",
      "                'parsetree': '[Text=Julia CharacterOffsetBegin=4 '\n",
      "                             'CharacterOffsetEnd=9 PartOfSpeech=NNP '\n",
      "                             'Lemma=Julia NamedEntityTag=PERSON] [Text=loves '\n",
      "                             'CharacterOffsetBegin=10 CharacterOffsetEnd=15 '\n",
      "                             'PartOfSpeech=VBZ Lemma=love NamedEntityTag=O] '\n",
      "                             '[Text=pink CharacterOffsetBegin=16 '\n",
      "                             'CharacterOffsetEnd=20 PartOfSpeech=NN Lemma=pink '\n",
      "                             'NamedEntityTag=O] (ROOT (SBAR (WHADVP (WRB Why)) '\n",
      "                             '(S (NP (NNP Julia)) (VP (VBZ loves) (NP (NN '\n",
      "                             'pink))))))',\n",
      "                'text': 'Why Julia loves pink',\n",
      "                'words': [['Why',\n",
      "                           {'CharacterOffsetBegin': '0',\n",
      "                            'CharacterOffsetEnd': '3',\n",
      "                            'Lemma': 'why',\n",
      "                            'NamedEntityTag': 'O',\n",
      "                            'PartOfSpeech': 'WRB'}]]}]}\n"
     ]
    }
   ],
   "source": [
    "result_json = json.loads(parser.parse(\"Why Julia loves pink\"))\n",
    "#result_json = json.loads(parser.parse(\"Michal Jordan invented LED in 1980.\"))\n",
    "pprint.pprint(result_json)"
   ]
  },
  {
   "cell_type": "code",
   "execution_count": 25,
   "metadata": {},
   "outputs": [
    {
     "name": "stdout",
     "output_type": "stream",
     "text": [
      "{'sentences': [{'dependencies': [['root', 'ROOT', 'loves'],\n",
      "                                 ['advmod', 'loves', 'How'],\n",
      "                                 ['nsubj', 'loves', 'Julia'],\n",
      "                                 ['dobj', 'loves', 'pink']],\n",
      "                'indexeddependencies': [['root', 'ROOT-0', 'loves-3'],\n",
      "                                        ['advmod', 'loves-3', 'How-1'],\n",
      "                                        ['nsubj', 'loves-3', 'Julia-2'],\n",
      "                                        ['dobj', 'loves-3', 'pink-4']],\n",
      "                'parsetree': '[Text=Julia CharacterOffsetBegin=4 '\n",
      "                             'CharacterOffsetEnd=9 PartOfSpeech=NNP '\n",
      "                             'Lemma=Julia NamedEntityTag=PERSON] [Text=loves '\n",
      "                             'CharacterOffsetBegin=10 CharacterOffsetEnd=15 '\n",
      "                             'PartOfSpeech=VBZ Lemma=love NamedEntityTag=O] '\n",
      "                             '[Text=pink CharacterOffsetBegin=16 '\n",
      "                             'CharacterOffsetEnd=20 PartOfSpeech=NN Lemma=pink '\n",
      "                             'NamedEntityTag=O] (ROOT (SBAR (WHADVP (WRB How)) '\n",
      "                             '(S (NP (NNP Julia)) (VP (VBZ loves) (NP (NN '\n",
      "                             'pink))))))',\n",
      "                'text': 'How Julia loves pink',\n",
      "                'words': [['How',\n",
      "                           {'CharacterOffsetBegin': '0',\n",
      "                            'CharacterOffsetEnd': '3',\n",
      "                            'Lemma': 'how',\n",
      "                            'NamedEntityTag': 'O',\n",
      "                            'PartOfSpeech': 'WRB'}]]}]}\n"
     ]
    }
   ],
   "source": [
    "result_json = json.loads(parser.parse(\"How Julia loves pink\"))\n",
    "#result_json = json.loads(parser.parse(\"Michal Jordan invented LED in 1980.\"))\n",
    "pprint.pprint(result_json)"
   ]
  },
  {
   "cell_type": "code",
   "execution_count": 9,
   "metadata": {},
   "outputs": [
    {
     "data": {
      "text/html": [
       "<div>\n",
       "<table border=\"1\" class=\"dataframe\">\n",
       "  <thead>\n",
       "    <tr style=\"text-align: right;\">\n",
       "      <th></th>\n",
       "      <th>id</th>\n",
       "      <th>question</th>\n",
       "      <th>answer_0_text</th>\n",
       "      <th>answer_0_start</th>\n",
       "      <th>answer_1_text</th>\n",
       "      <th>answer_1_start</th>\n",
       "      <th>answer_2_text</th>\n",
       "      <th>answer_2_start</th>\n",
       "      <th>title</th>\n",
       "      <th>context</th>\n",
       "      <th>paragraph_idx</th>\n",
       "    </tr>\n",
       "  </thead>\n",
       "  <tbody>\n",
       "    <tr>\n",
       "      <th>0</th>\n",
       "      <td>56be4db0acb8001400a502ec</td>\n",
       "      <td>Which NFL team represented the AFC at Super Bo...</td>\n",
       "      <td>Denver Broncos</td>\n",
       "      <td>177</td>\n",
       "      <td>Denver Broncos</td>\n",
       "      <td>177.0</td>\n",
       "      <td>Denver Broncos</td>\n",
       "      <td>177.0</td>\n",
       "      <td>Super_Bowl_50</td>\n",
       "      <td>Super Bowl 50 was an American football game to...</td>\n",
       "      <td>0</td>\n",
       "    </tr>\n",
       "    <tr>\n",
       "      <th>1</th>\n",
       "      <td>56be4db0acb8001400a502ed</td>\n",
       "      <td>Which NFL team represented the NFC at Super Bo...</td>\n",
       "      <td>Carolina Panthers</td>\n",
       "      <td>249</td>\n",
       "      <td>Carolina Panthers</td>\n",
       "      <td>249.0</td>\n",
       "      <td>Carolina Panthers</td>\n",
       "      <td>249.0</td>\n",
       "      <td>Super_Bowl_50</td>\n",
       "      <td>Super Bowl 50 was an American football game to...</td>\n",
       "      <td>0</td>\n",
       "    </tr>\n",
       "    <tr>\n",
       "      <th>2</th>\n",
       "      <td>56be4db0acb8001400a502ee</td>\n",
       "      <td>Where did Super Bowl 50 take place?</td>\n",
       "      <td>Santa Clara, California</td>\n",
       "      <td>403</td>\n",
       "      <td>Levi's Stadium</td>\n",
       "      <td>355.0</td>\n",
       "      <td>Levi's Stadium in the San Francisco Bay Area a...</td>\n",
       "      <td>355.0</td>\n",
       "      <td>Super_Bowl_50</td>\n",
       "      <td>Super Bowl 50 was an American football game to...</td>\n",
       "      <td>0</td>\n",
       "    </tr>\n",
       "    <tr>\n",
       "      <th>3</th>\n",
       "      <td>56be4db0acb8001400a502ef</td>\n",
       "      <td>Which NFL team won Super Bowl 50?</td>\n",
       "      <td>Denver Broncos</td>\n",
       "      <td>177</td>\n",
       "      <td>Denver Broncos</td>\n",
       "      <td>177.0</td>\n",
       "      <td>Denver Broncos</td>\n",
       "      <td>177.0</td>\n",
       "      <td>Super_Bowl_50</td>\n",
       "      <td>Super Bowl 50 was an American football game to...</td>\n",
       "      <td>0</td>\n",
       "    </tr>\n",
       "    <tr>\n",
       "      <th>4</th>\n",
       "      <td>56be4db0acb8001400a502f0</td>\n",
       "      <td>What color was used to emphasize the 50th anni...</td>\n",
       "      <td>gold</td>\n",
       "      <td>488</td>\n",
       "      <td>gold</td>\n",
       "      <td>488.0</td>\n",
       "      <td>gold</td>\n",
       "      <td>521.0</td>\n",
       "      <td>Super_Bowl_50</td>\n",
       "      <td>Super Bowl 50 was an American football game to...</td>\n",
       "      <td>0</td>\n",
       "    </tr>\n",
       "  </tbody>\n",
       "</table>\n",
       "</div>"
      ],
      "text/plain": [
       "                         id  \\\n",
       "0  56be4db0acb8001400a502ec   \n",
       "1  56be4db0acb8001400a502ed   \n",
       "2  56be4db0acb8001400a502ee   \n",
       "3  56be4db0acb8001400a502ef   \n",
       "4  56be4db0acb8001400a502f0   \n",
       "\n",
       "                                            question            answer_0_text  \\\n",
       "0  Which NFL team represented the AFC at Super Bo...           Denver Broncos   \n",
       "1  Which NFL team represented the NFC at Super Bo...        Carolina Panthers   \n",
       "2                Where did Super Bowl 50 take place?  Santa Clara, California   \n",
       "3                  Which NFL team won Super Bowl 50?           Denver Broncos   \n",
       "4  What color was used to emphasize the 50th anni...                     gold   \n",
       "\n",
       "   answer_0_start      answer_1_text  answer_1_start  \\\n",
       "0             177     Denver Broncos           177.0   \n",
       "1             249  Carolina Panthers           249.0   \n",
       "2             403     Levi's Stadium           355.0   \n",
       "3             177     Denver Broncos           177.0   \n",
       "4             488               gold           488.0   \n",
       "\n",
       "                                       answer_2_text  answer_2_start  \\\n",
       "0                                     Denver Broncos           177.0   \n",
       "1                                  Carolina Panthers           249.0   \n",
       "2  Levi's Stadium in the San Francisco Bay Area a...           355.0   \n",
       "3                                     Denver Broncos           177.0   \n",
       "4                                               gold           521.0   \n",
       "\n",
       "           title                                            context  \\\n",
       "0  Super_Bowl_50  Super Bowl 50 was an American football game to...   \n",
       "1  Super_Bowl_50  Super Bowl 50 was an American football game to...   \n",
       "2  Super_Bowl_50  Super Bowl 50 was an American football game to...   \n",
       "3  Super_Bowl_50  Super Bowl 50 was an American football game to...   \n",
       "4  Super_Bowl_50  Super Bowl 50 was an American football game to...   \n",
       "\n",
       "   paragraph_idx  \n",
       "0              0  \n",
       "1              0  \n",
       "2              0  \n",
       "3              0  \n",
       "4              0  "
      ]
     },
     "execution_count": 9,
     "metadata": {},
     "output_type": "execute_result"
    }
   ],
   "source": [
    "df_dev = pd.read_csv(\"dev_v1.csv\")\n",
    "df_dev.head()\n",
    "superboll_q =  df_dev.loc[df_dev['title']== 'Super_Bowl_50']\n",
    "superboll_q.head()"
   ]
  },
  {
   "cell_type": "code",
   "execution_count": 609,
   "metadata": {
    "collapsed": true
   },
   "outputs": [],
   "source": [
    "def convert_damn_corenlp_output(parse_str, json):\n",
    "\n",
    "    parse= parse_str.split(\"[\")[1:]\n",
    "    word_list = []\n",
    "    \n",
    "    for word in parse:\n",
    "        entity_dic = {}\n",
    "        entity_list = word.split(\" \")[:-1]\n",
    "        print(entity_list)\n",
    "        for entity in entity_list:\n",
    "            entity_dic[entity.split(\"=\")[0]] =entity.split(\"=\")[1].replace(\"]\",\"\")\n",
    "        word_list.append(entity_dic)\n",
    "    \n",
    "    inital_word_dic = json[\"sentences\"][0]['words'][0][1]\n",
    "    word_list.append(inital_word_dic)\n",
    "    \n",
    "    return word_list"
   ]
  },
  {
   "cell_type": "code",
   "execution_count": 610,
   "metadata": {
    "collapsed": true
   },
   "outputs": [],
   "source": [
    "def collect_constituency(const_str):\n",
    "    const = const_str.split(\" \")\n",
    "    const_dictionary = {}\n",
    "    print(const_str)\n",
    "\n",
    "    for i in range(len(const)):\n",
    "        if const[i][0]!=\"(\":\n",
    "            const_tag = []\n",
    "            for j in range(1, i):\n",
    "                if const[i-j][0] != \"(\" or i-j == 0:\n",
    "                    break\n",
    "                else:\n",
    "                    const_tag.append(const[i-j][1:])\n",
    "            const_dictionary[const[i].replace(\")\", \"\")] = const_tag[::-1]\n",
    "    return const_dictionary\n",
    "\n",
    "    \n",
    "def collect_dependency(json):\n",
    "    deps = parse_tree_str = json[\"sentences\"][0]['dependencies']\n",
    "    dep_dictionary = {}\n",
    "    for sublist in deps:\n",
    "        if sublist[0]!=\"punct\":\n",
    "            dep_dictionary[sublist[2]] = sublist[0]\n",
    "    return dep_dictionary\n",
    "\n",
    "\n",
    "def collect_word_info(json):\n",
    "    parse_tree_str = json[\"sentences\"][0]['parsetree']\n",
    "    index = parse_tree_str.index(\"(\")\n",
    "    const_str = parse_tree_str[index:]\n",
    "    parse_tree = parse_tree_str[:index]\n",
    "    \n",
    "    word_dic = convert_damn_corenlp_output(parse_tree, json)\n",
    "    pos,entity = get_pos_entity(word_dic)\n",
    "    const_dic = collect_constituency(const_str)\n",
    "    dep_dic = collect_dependency(json)\n",
    "    return pos, entity, const_dic, dep_dic\n",
    "\n",
    "def get_pos_entity(word_dic):\n",
    "    pos ,entity = {},{}\n",
    "\n",
    "    for item in word_dic:\n",
    "        if item[\"NamedEntityTag\"] != 'O':\n",
    "            entity[item['Lemma']] = item[\"NamedEntityTag\"]\n",
    "        pos[item['Lemma']] = item['PartOfSpeech']\n",
    "\n",
    "    return pos, entity"
   ]
  },
  {
   "cell_type": "code",
   "execution_count": 611,
   "metadata": {},
   "outputs": [
    {
     "name": "stdout",
     "output_type": "stream",
     "text": [
      "['Text=did', 'CharacterOffsetBegin=5', 'CharacterOffsetEnd=8', 'PartOfSpeech=VBD', 'Lemma=do', 'NamedEntityTag=O]']\n",
      "['Text=Khan', 'CharacterOffsetBegin=9', 'CharacterOffsetEnd=13', 'PartOfSpeech=NNP', 'Lemma=Khan', 'NamedEntityTag=PERSON]']\n",
      "['Text=establish', 'CharacterOffsetBegin=14', 'CharacterOffsetEnd=23', 'PartOfSpeech=VB', 'Lemma=establish', 'NamedEntityTag=O]']\n",
      "['Text=the', 'CharacterOffsetBegin=24', 'CharacterOffsetEnd=27', 'PartOfSpeech=DT', 'Lemma=the', 'NamedEntityTag=O]']\n",
      "['Text=Great', 'CharacterOffsetBegin=28', 'CharacterOffsetEnd=33', 'PartOfSpeech=NNP', 'Lemma=Great', 'NamedEntityTag=O]']\n",
      "['Text=Yuan', 'CharacterOffsetBegin=34', 'CharacterOffsetEnd=38', 'PartOfSpeech=NNP', 'Lemma=Yuan', 'NamedEntityTag=O]']\n",
      "['Text=?', 'CharacterOffsetBegin=38', 'CharacterOffsetEnd=39', 'PartOfSpeech=.', 'Lemma=?', 'NamedEntityTag=O]']\n",
      "(ROOT (SBARQ (WHADVP (WRB When)) (SQ (VBD did) (NP (NNP Khan)) (VP (VB establish) (NP (DT the) (NNP Great) (NNP Yuan)))) (. ?)))\n"
     ]
    }
   ],
   "source": [
    "sentence = \"When did Khan establish the Great Yuan?\"\n",
    "result_json = json.loads(parser.parse(sentence))\n",
    "\n",
    "pos, entity, const_dic, dep_dic = collect_word_info(result_json)"
   ]
  },
  {
   "cell_type": "code",
   "execution_count": 612,
   "metadata": {},
   "outputs": [
    {
     "name": "stdout",
     "output_type": "stream",
     "text": [
      "dep\n",
      "{'establish': 'root', 'When': 'advmod', 'did': 'aux', 'Khan': 'nsubj', 'the': 'det', 'Great': 'compound', 'Yuan': 'dobj'}\n",
      "entity\n",
      "{'Khan': 'PERSON'}\n",
      "const\n",
      "{'When': ['SBARQ', 'WHADVP', 'WRB'], 'did': ['SQ', 'VBD'], 'Khan': ['NP', 'NNP'], 'establish': ['VP', 'VB'], 'the': ['NP', 'DT'], 'Great': ['NNP'], 'Yuan': ['NNP'], '?': ['.']}\n",
      "pos\n",
      "{'do': 'VBD', 'Khan': 'NNP', 'establish': 'VB', 'the': 'DT', 'Great': 'NNP', 'Yuan': 'NNP', '?': '.', 'when': 'WRB'}\n"
     ]
    }
   ],
   "source": [
    "print(\"dep\")\n",
    "print(dep_dic)\n",
    "print(\"entity\")\n",
    "print(entity)\n",
    "print(\"const\")\n",
    "print(const_dic)\n",
    "print(\"pos\")\n",
    "print(pos)"
   ]
  },
  {
   "cell_type": "code",
   "execution_count": 619,
   "metadata": {
    "collapsed": true
   },
   "outputs": [],
   "source": [
    "sentence_a = \"Korea border was Kublai's territory and I went to dinner\""
   ]
  },
  {
   "cell_type": "code",
   "execution_count": 620,
   "metadata": {},
   "outputs": [
    {
     "name": "stdout",
     "output_type": "stream",
     "text": [
      "['Text=border', 'CharacterOffsetBegin=6', 'CharacterOffsetEnd=12', 'PartOfSpeech=NN', 'Lemma=border', 'NamedEntityTag=O]']\n",
      "['Text=was', 'CharacterOffsetBegin=13', 'CharacterOffsetEnd=16', 'PartOfSpeech=VBD', 'Lemma=be', 'NamedEntityTag=O]']\n",
      "['Text=Kublai', 'CharacterOffsetBegin=17', 'CharacterOffsetEnd=23', 'PartOfSpeech=NNP', 'Lemma=Kublai', 'NamedEntityTag=PERSON]']\n",
      "[\"Text='s\", 'CharacterOffsetBegin=23', 'CharacterOffsetEnd=25', 'PartOfSpeech=POS', \"Lemma='s\", 'NamedEntityTag=O]']\n",
      "['Text=territory', 'CharacterOffsetBegin=26', 'CharacterOffsetEnd=35', 'PartOfSpeech=NN', 'Lemma=territory', 'NamedEntityTag=O]']\n",
      "['Text=and', 'CharacterOffsetBegin=36', 'CharacterOffsetEnd=39', 'PartOfSpeech=CC', 'Lemma=and', 'NamedEntityTag=O]']\n",
      "['Text=I', 'CharacterOffsetBegin=40', 'CharacterOffsetEnd=41', 'PartOfSpeech=PRP', 'Lemma=I', 'NamedEntityTag=O]']\n",
      "['Text=went', 'CharacterOffsetBegin=42', 'CharacterOffsetEnd=46', 'PartOfSpeech=VBD', 'Lemma=go', 'NamedEntityTag=O]']\n",
      "['Text=to', 'CharacterOffsetBegin=47', 'CharacterOffsetEnd=49', 'PartOfSpeech=TO', 'Lemma=to', 'NamedEntityTag=O]']\n",
      "['Text=dinner', 'CharacterOffsetBegin=50', 'CharacterOffsetEnd=56', 'PartOfSpeech=NN', 'Lemma=dinner', 'NamedEntityTag=O]']\n",
      "(ROOT (NP (S (S (NP (NNP Korea) (NN border)) (VP (VBD was) (NP (NP (NNP Kublai) (POS 's)) (NN territory)))) (CC and) (S (NP (PRP I)) (VP (VBD went) (PP (TO to) (NP (NN dinner))))))))\n",
      "dep\n",
      "{'territory': 'root', 'Korea': 'compound', 'border': 'nsubj', 'was': 'cop', 'Kublai': 'nmod:poss', \"'s\": 'case', 'and': 'cc', 'I': 'nsubj', 'went': 'conj:and', 'to': 'case', 'dinner': 'nmod:to'}\n",
      "entity\n",
      "{'Kublai': 'PERSON', 'Korea': 'LOCATION'}\n",
      "const\n",
      "{'Korea': ['NP', 'S', 'S', 'NP', 'NNP'], 'border': ['NN'], 'was': ['VP', 'VBD'], 'Kublai': ['NP', 'NP', 'NNP'], \"'s\": ['POS'], 'territory': ['NN'], 'and': ['CC'], 'I': ['S', 'NP', 'PRP'], 'went': ['VP', 'VBD'], 'to': ['PP', 'TO'], 'dinner': ['NP', 'NN']}\n"
     ]
    }
   ],
   "source": [
    "result_json_a = json.loads(parser.parse(sentence_a))\n",
    "\n",
    "pos, entity, const_dic, dep_dic = collect_word_info(result_json_a)\n",
    "print(\"dep\")\n",
    "print(dep_dic)\n",
    "print(\"entity\")\n",
    "print(entity)\n",
    "print(\"const\")\n",
    "print(const_dic)"
   ]
  },
  {
   "cell_type": "code",
   "execution_count": 12,
   "metadata": {},
   "outputs": [],
   "source": [
    "df = pd.read_csv(\"01sampling_Word_0607.csv\")"
   ]
  },
  {
   "cell_type": "code",
   "execution_count": 15,
   "metadata": {},
   "outputs": [
    {
     "data": {
      "text/plain": [
       "O    60158\n",
       "B     1303\n",
       "E      956\n",
       "Name: category, dtype: int64"
      ]
     },
     "execution_count": 15,
     "metadata": {},
     "output_type": "execute_result"
    }
   ],
   "source": [
    "df[\"category\"].value_counts()"
   ]
  },
  {
   "cell_type": "code",
   "execution_count": null,
   "metadata": {
    "collapsed": true
   },
   "outputs": [],
   "source": []
  },
  {
   "cell_type": "code",
   "execution_count": null,
   "metadata": {
    "collapsed": true
   },
   "outputs": [],
   "source": []
  }
 ],
 "metadata": {
  "kernelspec": {
   "display_name": "Python 3",
   "language": "python",
   "name": "python3"
  },
  "language_info": {
   "codemirror_mode": {
    "name": "ipython",
    "version": 3
   },
   "file_extension": ".py",
   "mimetype": "text/x-python",
   "name": "python",
   "nbconvert_exporter": "python",
   "pygments_lexer": "ipython3",
   "version": "3.6.1"
  }
 },
 "nbformat": 4,
 "nbformat_minor": 2
}
